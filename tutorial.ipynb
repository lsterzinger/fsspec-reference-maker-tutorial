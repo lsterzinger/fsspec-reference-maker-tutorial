{
 "cells": [
  {
   "cell_type": "markdown",
   "id": "advisory-punishment",
   "metadata": {},
   "source": [
    "# `fsspec-reference-maker` tutorial\n",
    "\n",
    "Created June 8th, 2020 by [Lucas Sterzinger](mailto:lsterzinger@ucdavis.edu) ([Twitter](https://twitter.com/lucassterzinger)) as part of the NCAR [Summer Internship in Parallel Computational Science (SIParCS)](https://www2.cisl.ucar.edu/siparcs)\n",
    "\n",
    "If any part of this tutorial is now out of date, please feel free to open a pull request with a fix"
   ]
  },
  {
   "cell_type": "markdown",
   "id": "speaking-focus",
   "metadata": {},
   "source": [
    "### First, install and import fsspec_reference_maker"
   ]
  },
  {
   "cell_type": "code",
   "execution_count": null,
   "id": "posted-marketplace",
   "metadata": {},
   "outputs": [],
   "source": [
    "!pip install --user git+https://github.com/intake/fsspec-reference-maker@84c15d98a1e0ca04469f2453028b936b124e7df"
   ]
  },
  {
   "cell_type": "markdown",
   "id": "satellite-velvet",
   "metadata": {},
   "source": [
    "### Update s3fs and fsspec to latest versions"
   ]
  },
  {
   "cell_type": "code",
   "execution_count": null,
   "id": "inside-venture",
   "metadata": {},
   "outputs": [],
   "source": [
    "!pip install --upgrade --user s3fs fsspec"
   ]
  },
  {
   "cell_type": "markdown",
   "id": "generous-kingston",
   "metadata": {},
   "source": [
    "### _Note: If the import below still fails after installing with pip, restart the kernel by selecting Kernel ->  Restart Kernel from the Jupyter Notebook menu bar_"
   ]
  },
  {
   "cell_type": "code",
   "execution_count": null,
   "id": "informed-patio",
   "metadata": {},
   "outputs": [],
   "source": [
    "import fsspec_reference_maker.hdf as fsshdf"
   ]
  },
  {
   "cell_type": "code",
   "execution_count": null,
   "id": "cheap-rapid",
   "metadata": {},
   "outputs": [],
   "source": [
    "import xarray as xr\n",
    "import numpy as np\n",
    "import matplotlib.pyplot as plt\n",
    "import s3fs\n",
    "import datetime as dt\n",
    "\n",
    "import logging\n",
    "import fsspec\n",
    "import json\n",
    "from tqdm import tqdm\n",
    "from glob import glob"
   ]
  },
  {
   "cell_type": "markdown",
   "id": "mighty-surgery",
   "metadata": {},
   "source": [
    "## Create metadata JSONs\n",
    "\n",
    "### This function returns a list of S3 files for a given satellite, year, and day"
   ]
  },
  {
   "cell_type": "code",
   "execution_count": null,
   "id": "hollow-possibility",
   "metadata": {},
   "outputs": [],
   "source": [
    "def get_file_list(sat,lyr,idyjl):\n",
    "    # arguments\n",
    "    # sat   goes-east,goes-west,himawari\n",
    "    # lyr   year\n",
    "    # idyjl day of year\n",
    "    \n",
    "    d = dt.datetime(lyr,1,1) + dt.timedelta(days=idyjl)\n",
    "    fs = s3fs.S3FileSystem(anon=True) #connect to s3 bucket!\n",
    "\n",
    "    #create strings for the year and julian day\n",
    "    imon,idym=d.month,d.day\n",
    "    syr,sjdy,smon,sdym = str(lyr).zfill(4),str(idyjl).zfill(3),str(imon).zfill(2),str(idym).zfill(2)\n",
    "    \n",
    "    #use glob to list all the files in the directory\n",
    "    if sat=='goes-east':\n",
    "        file_location,var = fs.glob('s3://noaa-goes16/ABI-L2-SSTF/'+syr+'/'+sjdy+'/*/*.nc'),'SST'\n",
    "    if sat=='goes-west':\n",
    "        file_location,var = fs.glob('s3://noaa-goes17/ABI-L2-SSTF/'+syr+'/'+sjdy+'/*/*.nc'),'SST'\n",
    "    if sat=='himawari':\n",
    "        file_location,var = fs.glob('s3://noaa-himawari8/AHI-L2-FLDK-SST/'+syr+'/'+smon+'/'+sdym+'/*/*L2P*.nc'),'sea_surface_temperature'\n",
    "    \n",
    "    return file_location"
   ]
  },
  {
   "cell_type": "code",
   "execution_count": null,
   "id": "endangered-spider",
   "metadata": {},
   "outputs": [],
   "source": [
    "flist = get_file_list(\"goes-east\", 2020, 210)\n",
    "urls = [\"s3://\" + f for f in flist]"
   ]
  },
  {
   "cell_type": "markdown",
   "id": "circular-assist",
   "metadata": {},
   "source": [
    "### This function creates JSON metadata files for each of the S3 files in the local `jsons/` directory\n",
    "\n",
    "These files point to the S3 location of the netCDF files, and only need to be created once. Tihs process took me about 10 minutes to generate the JSONs for 24 files. This function could easily be made to run in parallel for faster performance"
   ]
  },
  {
   "cell_type": "code",
   "execution_count": null,
   "id": "small-prisoner",
   "metadata": {},
   "outputs": [],
   "source": [
    "def gen_json(urllist):\n",
    "    so = dict(\n",
    "        mode=\"rb\", anon=True, default_fill_cache=False, default_cache_type=\"none\"\n",
    "    )\n",
    "\n",
    "    for u in tqdm(urllist):\n",
    "        with fsspec.open(u, **so) as f:\n",
    "            h5chunks = fsshdf.SingleHdf5ToZarr(f, u, xarray=True)\n",
    "            j = h5chunks.translate()\n",
    "            fname = u.split(\"/\")[7]\n",
    "            with open(f\"./jsons/{fname}.json\", \"w\") as fout:\n",
    "                fout.write(json.dumps(j))\n"
   ]
  },
  {
   "cell_type": "code",
   "execution_count": null,
   "id": "indie-address",
   "metadata": {},
   "outputs": [],
   "source": [
    "gen_json(urls)"
   ]
  },
  {
   "cell_type": "markdown",
   "id": "artificial-ribbon",
   "metadata": {},
   "source": [
    "***\n",
    "## Read remote netCDF files with xarray and fsspec\n",
    "\n",
    "### First, create a list of JSON files"
   ]
  },
  {
   "cell_type": "code",
   "execution_count": null,
   "id": "agricultural-output",
   "metadata": {},
   "outputs": [],
   "source": [
    "json_list = sorted(glob(\"./jsons/*.json\"))"
   ]
  },
  {
   "cell_type": "markdown",
   "id": "pediatric-first",
   "metadata": {},
   "source": [
    "### Then, loop over the files and use `fsspec.get_mapper()` to create mappers for each file object, creating a list of mappers"
   ]
  },
  {
   "cell_type": "code",
   "execution_count": null,
   "id": "geographic-series",
   "metadata": {},
   "outputs": [],
   "source": [
    "m_list = []\n",
    "for js in tqdm(json_list):\n",
    "    with open(js) as f:\n",
    "        m_list.append(fsspec.get_mapper(\"reference://\", fo=json.load(f), remote_protocol=\"s3\", remote_options={\"anon\": True}))\n"
   ]
  },
  {
   "cell_type": "markdown",
   "id": "mobile-surname",
   "metadata": {},
   "source": [
    "### Now, the mapper list can be passed directly to `xarray.open_mfdataset()` as long as the engine is specified as \"zarr\""
   ]
  },
  {
   "cell_type": "code",
   "execution_count": null,
   "id": "active-logistics",
   "metadata": {},
   "outputs": [],
   "source": [
    "ds = xr.open_mfdataset(m_list, combine='nested', concat_dim='t',\n",
    "                       engine='zarr', coords='minimal', \n",
    "                       data_vars='minimal', compat='override')"
   ]
  },
  {
   "cell_type": "markdown",
   "id": "essential-bathroom",
   "metadata": {},
   "source": [
    "### Take a subset of the data (in this case, the Gulf Stream)"
   ]
  },
  {
   "cell_type": "markdown",
   "id": "fluid-blackjack",
   "metadata": {},
   "source": [
    "### Select a single time with `.isel(t=14)`"
   ]
  },
  {
   "cell_type": "code",
   "execution_count": null,
   "id": "liberal-fault",
   "metadata": {},
   "outputs": [],
   "source": [
    "%%time\n",
    "subset = ds.sel(x=slice(-0.01,0.07215601),y=slice(0.12,0.09))  #reduce to GS region\n",
    "\n",
    "masked = subset.SST.where(subset.DQF==0)\n",
    "\n",
    "masked.isel(t=14).plot(vmin=14+273.15,vmax=30+273.15,cmap='inferno')"
   ]
  },
  {
   "cell_type": "markdown",
   "id": "amber-switzerland",
   "metadata": {},
   "source": [
    "### Plot a mean along the time axis (1-day average)"
   ]
  },
  {
   "cell_type": "code",
   "execution_count": null,
   "id": "effective-decrease",
   "metadata": {},
   "outputs": [],
   "source": [
    "%%time\n",
    "subset = ds.sel(x=slice(-0.01,0.07215601),y=slice(0.12,0.09))  #reduce to GS region\n",
    "\n",
    "masked = subset.SST.where(subset.DQF==0)\n",
    "\n",
    "masked.mean(\"t\", skipna=True).plot(vmin=14+273.15,vmax=30+273.15,cmap='inferno')"
   ]
  },
  {
   "cell_type": "code",
   "execution_count": null,
   "id": "egyptian-locator",
   "metadata": {},
   "outputs": [],
   "source": []
  }
 ],
 "metadata": {
  "kernelspec": {
   "display_name": "Python [conda env:notebook] *",
   "language": "python",
   "name": "conda-env-notebook-py"
  },
  "language_info": {
   "codemirror_mode": {
    "name": "ipython",
    "version": 3
   },
   "file_extension": ".py",
   "mimetype": "text/x-python",
   "name": "python",
   "nbconvert_exporter": "python",
   "pygments_lexer": "ipython3",
   "version": "3.8.6"
  }
 },
 "nbformat": 4,
 "nbformat_minor": 5
}
